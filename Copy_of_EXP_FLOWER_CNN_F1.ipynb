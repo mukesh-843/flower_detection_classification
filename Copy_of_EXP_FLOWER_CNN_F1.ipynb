{
  "cells": [
    {
      "cell_type": "code",
      "execution_count": null,
      "metadata": {
        "colab": {
          "base_uri": "https://localhost:8080/"
        },
        "id": "gPT40WoR7hY4",
        "outputId": "e6235792-189a-4722-ee65-d61557948913"
      },
      "outputs": [
        {
          "output_type": "stream",
          "name": "stdout",
          "text": [
            "Looking in indexes: https://pypi.org/simple, https://us-python.pkg.dev/colab-wheels/public/simple/\n",
            "Requirement already satisfied: keras in /usr/local/lib/python3.9/dist-packages (2.12.0)\n"
          ]
        }
      ],
      "source": [
        "!pip install keras"
      ]
    },
    {
      "cell_type": "code",
      "execution_count": null,
      "metadata": {
        "colab": {
          "base_uri": "https://localhost:8080/"
        },
        "id": "4Jmyz54g7SvN",
        "outputId": "4a0d841e-3582-4049-c2cd-f931fea813c3"
      },
      "outputs": [
        {
          "output_type": "stream",
          "name": "stdout",
          "text": [
            "Looking in indexes: https://pypi.org/simple, https://us-python.pkg.dev/colab-wheels/public/simple/\n",
            "Requirement already satisfied: tensorflow in /usr/local/lib/python3.9/dist-packages (2.12.0)\n",
            "Requirement already satisfied: gast<=0.4.0,>=0.2.1 in /usr/local/lib/python3.9/dist-packages (from tensorflow) (0.4.0)\n",
            "Requirement already satisfied: google-pasta>=0.1.1 in /usr/local/lib/python3.9/dist-packages (from tensorflow) (0.2.0)\n",
            "Requirement already satisfied: keras<2.13,>=2.12.0 in /usr/local/lib/python3.9/dist-packages (from tensorflow) (2.12.0)\n",
            "Requirement already satisfied: astunparse>=1.6.0 in /usr/local/lib/python3.9/dist-packages (from tensorflow) (1.6.3)\n",
            "Requirement already satisfied: typing-extensions>=3.6.6 in /usr/local/lib/python3.9/dist-packages (from tensorflow) (4.5.0)\n",
            "Requirement already satisfied: absl-py>=1.0.0 in /usr/local/lib/python3.9/dist-packages (from tensorflow) (1.4.0)\n",
            "Requirement already satisfied: grpcio<2.0,>=1.24.3 in /usr/local/lib/python3.9/dist-packages (from tensorflow) (1.53.0)\n",
            "Requirement already satisfied: packaging in /usr/local/lib/python3.9/dist-packages (from tensorflow) (23.1)\n",
            "Requirement already satisfied: six>=1.12.0 in /usr/local/lib/python3.9/dist-packages (from tensorflow) (1.16.0)\n",
            "Requirement already satisfied: flatbuffers>=2.0 in /usr/local/lib/python3.9/dist-packages (from tensorflow) (23.3.3)\n",
            "Requirement already satisfied: numpy<1.24,>=1.22 in /usr/local/lib/python3.9/dist-packages (from tensorflow) (1.22.4)\n",
            "Requirement already satisfied: opt-einsum>=2.3.2 in /usr/local/lib/python3.9/dist-packages (from tensorflow) (3.3.0)\n",
            "Requirement already satisfied: termcolor>=1.1.0 in /usr/local/lib/python3.9/dist-packages (from tensorflow) (2.2.0)\n",
            "Requirement already satisfied: wrapt<1.15,>=1.11.0 in /usr/local/lib/python3.9/dist-packages (from tensorflow) (1.14.1)\n",
            "Requirement already satisfied: jax>=0.3.15 in /usr/local/lib/python3.9/dist-packages (from tensorflow) (0.4.8)\n",
            "Requirement already satisfied: tensorflow-io-gcs-filesystem>=0.23.1 in /usr/local/lib/python3.9/dist-packages (from tensorflow) (0.32.0)\n",
            "Requirement already satisfied: setuptools in /usr/local/lib/python3.9/dist-packages (from tensorflow) (67.6.1)\n",
            "Requirement already satisfied: h5py>=2.9.0 in /usr/local/lib/python3.9/dist-packages (from tensorflow) (3.8.0)\n",
            "Requirement already satisfied: tensorflow-estimator<2.13,>=2.12.0 in /usr/local/lib/python3.9/dist-packages (from tensorflow) (2.12.0)\n",
            "Requirement already satisfied: libclang>=13.0.0 in /usr/local/lib/python3.9/dist-packages (from tensorflow) (16.0.0)\n",
            "Requirement already satisfied: protobuf!=4.21.0,!=4.21.1,!=4.21.2,!=4.21.3,!=4.21.4,!=4.21.5,<5.0.0dev,>=3.20.3 in /usr/local/lib/python3.9/dist-packages (from tensorflow) (3.20.3)\n",
            "Requirement already satisfied: tensorboard<2.13,>=2.12 in /usr/local/lib/python3.9/dist-packages (from tensorflow) (2.12.2)\n",
            "Requirement already satisfied: wheel<1.0,>=0.23.0 in /usr/local/lib/python3.9/dist-packages (from astunparse>=1.6.0->tensorflow) (0.40.0)\n",
            "Requirement already satisfied: scipy>=1.7 in /usr/local/lib/python3.9/dist-packages (from jax>=0.3.15->tensorflow) (1.10.1)\n",
            "Requirement already satisfied: ml-dtypes>=0.0.3 in /usr/local/lib/python3.9/dist-packages (from jax>=0.3.15->tensorflow) (0.1.0)\n",
            "Requirement already satisfied: werkzeug>=1.0.1 in /usr/local/lib/python3.9/dist-packages (from tensorboard<2.13,>=2.12->tensorflow) (2.2.3)\n",
            "Requirement already satisfied: markdown>=2.6.8 in /usr/local/lib/python3.9/dist-packages (from tensorboard<2.13,>=2.12->tensorflow) (3.4.3)\n",
            "Requirement already satisfied: google-auth<3,>=1.6.3 in /usr/local/lib/python3.9/dist-packages (from tensorboard<2.13,>=2.12->tensorflow) (2.17.3)\n",
            "Requirement already satisfied: tensorboard-data-server<0.8.0,>=0.7.0 in /usr/local/lib/python3.9/dist-packages (from tensorboard<2.13,>=2.12->tensorflow) (0.7.0)\n",
            "Requirement already satisfied: tensorboard-plugin-wit>=1.6.0 in /usr/local/lib/python3.9/dist-packages (from tensorboard<2.13,>=2.12->tensorflow) (1.8.1)\n",
            "Requirement already satisfied: requests<3,>=2.21.0 in /usr/local/lib/python3.9/dist-packages (from tensorboard<2.13,>=2.12->tensorflow) (2.27.1)\n",
            "Requirement already satisfied: google-auth-oauthlib<1.1,>=0.5 in /usr/local/lib/python3.9/dist-packages (from tensorboard<2.13,>=2.12->tensorflow) (1.0.0)\n",
            "Requirement already satisfied: rsa<5,>=3.1.4 in /usr/local/lib/python3.9/dist-packages (from google-auth<3,>=1.6.3->tensorboard<2.13,>=2.12->tensorflow) (4.9)\n",
            "Requirement already satisfied: cachetools<6.0,>=2.0.0 in /usr/local/lib/python3.9/dist-packages (from google-auth<3,>=1.6.3->tensorboard<2.13,>=2.12->tensorflow) (5.3.0)\n",
            "Requirement already satisfied: pyasn1-modules>=0.2.1 in /usr/local/lib/python3.9/dist-packages (from google-auth<3,>=1.6.3->tensorboard<2.13,>=2.12->tensorflow) (0.2.8)\n",
            "Requirement already satisfied: requests-oauthlib>=0.7.0 in /usr/local/lib/python3.9/dist-packages (from google-auth-oauthlib<1.1,>=0.5->tensorboard<2.13,>=2.12->tensorflow) (1.3.1)\n",
            "Requirement already satisfied: importlib-metadata>=4.4 in /usr/local/lib/python3.9/dist-packages (from markdown>=2.6.8->tensorboard<2.13,>=2.12->tensorflow) (6.4.1)\n",
            "Requirement already satisfied: idna<4,>=2.5 in /usr/local/lib/python3.9/dist-packages (from requests<3,>=2.21.0->tensorboard<2.13,>=2.12->tensorflow) (3.4)\n",
            "Requirement already satisfied: certifi>=2017.4.17 in /usr/local/lib/python3.9/dist-packages (from requests<3,>=2.21.0->tensorboard<2.13,>=2.12->tensorflow) (2022.12.7)\n",
            "Requirement already satisfied: urllib3<1.27,>=1.21.1 in /usr/local/lib/python3.9/dist-packages (from requests<3,>=2.21.0->tensorboard<2.13,>=2.12->tensorflow) (1.26.15)\n",
            "Requirement already satisfied: charset-normalizer~=2.0.0 in /usr/local/lib/python3.9/dist-packages (from requests<3,>=2.21.0->tensorboard<2.13,>=2.12->tensorflow) (2.0.12)\n",
            "Requirement already satisfied: MarkupSafe>=2.1.1 in /usr/local/lib/python3.9/dist-packages (from werkzeug>=1.0.1->tensorboard<2.13,>=2.12->tensorflow) (2.1.2)\n",
            "Requirement already satisfied: zipp>=0.5 in /usr/local/lib/python3.9/dist-packages (from importlib-metadata>=4.4->markdown>=2.6.8->tensorboard<2.13,>=2.12->tensorflow) (3.15.0)\n",
            "Requirement already satisfied: pyasn1<0.5.0,>=0.4.6 in /usr/local/lib/python3.9/dist-packages (from pyasn1-modules>=0.2.1->google-auth<3,>=1.6.3->tensorboard<2.13,>=2.12->tensorflow) (0.4.8)\n",
            "Requirement already satisfied: oauthlib>=3.0.0 in /usr/local/lib/python3.9/dist-packages (from requests-oauthlib>=0.7.0->google-auth-oauthlib<1.1,>=0.5->tensorboard<2.13,>=2.12->tensorflow) (3.2.2)\n"
          ]
        }
      ],
      "source": [
        "!pip install tensorflow"
      ]
    },
    {
      "cell_type": "code",
      "execution_count": null,
      "metadata": {
        "colab": {
          "base_uri": "https://localhost:8080/"
        },
        "id": "gRW6s4DlckCL",
        "outputId": "e6b14b0d-bd74-41bb-9f1b-1533994f198e"
      },
      "outputs": [
        {
          "output_type": "stream",
          "name": "stdout",
          "text": [
            "Mounted at /content/drive/\n"
          ]
        }
      ],
      "source": [
        "from google.colab import drive\n",
        "drive.mount('/content/drive/')\n"
      ]
    },
    {
      "cell_type": "code",
      "execution_count": null,
      "metadata": {
        "id": "i5sGImJt7Q1B"
      },
      "outputs": [],
      "source": [
        "#Importing all the libraries that are required.\n",
        "import numpy as np\n",
        "import tensorflow as tf\n",
        "from keras.preprocessing.image import ImageDataGenerator\n",
        "# from tensorflow.keras.utils import load_img\n",
        "# from tensorflow.keras.utils import img_to_array\n",
        "from keras.models import Sequential\n",
        "from keras.layers import Conv2D, MaxPooling2D, Flatten, Dense, BatchNormalization, Dropout\n",
        "from keras.models import Sequential\n",
        "\n",
        "\n",
        "\n",
        "\n",
        "training_set = '/content/drive/MyDrive/data/training_set'\n",
        "test_set = '/content/drive/MyDrive/data/test_set'\n",
        "prediction = '/content/drive/MyDrive/data/prediction'"
      ]
    },
    {
      "cell_type": "code",
      "execution_count": null,
      "metadata": {
        "colab": {
          "base_uri": "https://localhost:8080/",
          "height": 39
        },
        "id": "KU-5YZo682Kd",
        "outputId": "d45fd334-2398-4ff5-e792-8ae741ef3df1"
      },
      "outputs": [
        {
          "output_type": "execute_result",
          "data": {
            "text/plain": [
              "'2.12.0'"
            ],
            "application/vnd.google.colaboratory.intrinsic+json": {
              "type": "string"
            }
          },
          "metadata": {},
          "execution_count": 15
        }
      ],
      "source": [
        "tf.__version__"
      ]
    },
    {
      "cell_type": "code",
      "execution_count": null,
      "metadata": {
        "colab": {
          "base_uri": "https://localhost:8080/"
        },
        "id": "EMG2g0C270is",
        "outputId": "d0f10f58-4421-4ec6-9025-b38e79f639d2"
      },
      "outputs": [
        {
          "output_type": "stream",
          "name": "stdout",
          "text": [
            "Found 3452 images belonging to 5 classes.\n"
          ]
        }
      ],
      "source": [
        "#Here we are loading datasets.We are using the flow_from_directory function of keras which loads the dataset from the folder and will also categorize it into respective categories.\n",
        "train_datagen = ImageDataGenerator(\n",
        "        rescale=1./255,\n",
        "        shear_range=0.2,\n",
        "        zoom_range=0.2,\n",
        "        horizontal_flip=True)\n",
        "training_set = train_datagen.flow_from_directory(\n",
        "        training_set,\n",
        "        target_size=(64, 64),\n",
        "        batch_size=32,\n",
        "        class_mode='categorical')"
      ]
    },
    {
      "cell_type": "code",
      "execution_count": null,
      "metadata": {
        "colab": {
          "base_uri": "https://localhost:8080/"
        },
        "id": "Cg2GJays9D7f",
        "outputId": "bce8873b-f13e-4f62-820b-7502aee2acf3"
      },
      "outputs": [
        {
          "output_type": "stream",
          "name": "stdout",
          "text": [
            "Found 865 images belonging to 5 classes.\n"
          ]
        }
      ],
      "source": [
        "test_datagen = ImageDataGenerator(rescale=1./255)\n",
        "test_set = test_datagen.flow_from_directory(\n",
        "        test_set,\n",
        "        target_size=(64, 64),\n",
        "        batch_size=32,\n",
        "        class_mode='categorical')"
      ]
    },
    {
      "cell_type": "code",
      "execution_count": null,
      "metadata": {
        "id": "lA8yZ-rc9Ptn"
      },
      "outputs": [],
      "source": [
        "    cnn = Sequential()\n",
        "    cnn.add(Conv2D(filters = 32, kernel_size = (5,5),padding = 'Same',activation ='relu', input_shape = (64,64,3)))\n",
        "    cnn.add(BatchNormalization())\n",
        "    cnn.add(MaxPooling2D(pool_size=(2,2)))\n",
        "    cnn.add(Conv2D(filters = 64, kernel_size = (3,3),padding = 'Same',activation ='relu'))\n",
        "    cnn.add(BatchNormalization())\n",
        "    cnn.add(MaxPooling2D(pool_size=(2,2), strides=(2,2)))\n",
        "    cnn.add(Conv2D(filters =96, kernel_size = (3,3),padding = 'Same',activation ='relu'))\n",
        "    cnn.add(BatchNormalization())\n",
        "    cnn.add(MaxPooling2D(pool_size=(2,2), strides=(2,2)))\n",
        "    cnn.add(Conv2D(filters = 96, kernel_size = (3,3),padding = 'Same',activation ='relu'))\n",
        "    cnn.add(BatchNormalization())\n",
        "    cnn.add(MaxPooling2D(pool_size=(2,2), strides=(2,2)))\n",
        "    cnn.add(Flatten())\n",
        "    cnn.add(Dense(512,activation = \"relu\"))\n",
        "    cnn.add(BatchNormalization())\n",
        "    cnn.add(Dropout(0.5))\n",
        "    cnn.add(Dense(5, activation = \"softmax\"))"
      ]
    },
    {
      "cell_type": "code",
      "execution_count": null,
      "metadata": {
        "id": "urmteAZ09u09"
      },
      "outputs": [],
      "source": [
        "cnn.compile(optimizer = 'rmsprop' , loss = 'categorical_crossentropy' , metrics = ['accuracy'])"
      ]
    },
    {
      "cell_type": "code",
      "execution_count": null,
      "metadata": {
        "id": "MQKx5VSB9yVq",
        "colab": {
          "base_uri": "https://localhost:8080/"
        },
        "outputId": "b5b9e0d9-7171-4079-edbe-f6fc80e2af84"
      },
      "outputs": [
        {
          "output_type": "stream",
          "name": "stdout",
          "text": [
            "Epoch 1/30\n",
            "108/108 [==============================] - 795s 7s/step - loss: 1.8288 - accuracy: 0.4534 - val_loss: 2.9456 - val_accuracy: 0.2428\n",
            "Epoch 2/30\n",
            "108/108 [==============================] - 21s 192ms/step - loss: 1.3814 - accuracy: 0.5330 - val_loss: 2.7100 - val_accuracy: 0.3029\n",
            "Epoch 3/30\n",
            "108/108 [==============================] - 22s 200ms/step - loss: 1.1640 - accuracy: 0.5820 - val_loss: 2.1153 - val_accuracy: 0.3954\n",
            "Epoch 4/30\n",
            "108/108 [==============================] - 22s 207ms/step - loss: 1.0176 - accuracy: 0.6353 - val_loss: 1.6665 - val_accuracy: 0.5110\n",
            "Epoch 5/30\n",
            "108/108 [==============================] - 22s 199ms/step - loss: 0.9255 - accuracy: 0.6587 - val_loss: 1.1022 - val_accuracy: 0.6220\n",
            "Epoch 6/30\n",
            "108/108 [==============================] - 21s 192ms/step - loss: 0.8387 - accuracy: 0.6932 - val_loss: 1.1341 - val_accuracy: 0.5780\n",
            "Epoch 7/30\n",
            "108/108 [==============================] - 22s 201ms/step - loss: 0.7720 - accuracy: 0.7144 - val_loss: 1.0143 - val_accuracy: 0.6462\n",
            "Epoch 8/30\n",
            "108/108 [==============================] - 21s 193ms/step - loss: 0.7447 - accuracy: 0.7277 - val_loss: 0.9569 - val_accuracy: 0.6613\n",
            "Epoch 9/30\n",
            "108/108 [==============================] - 22s 203ms/step - loss: 0.6804 - accuracy: 0.7538 - val_loss: 1.0810 - val_accuracy: 0.5792\n",
            "Epoch 10/30\n",
            "108/108 [==============================] - 21s 193ms/step - loss: 0.6428 - accuracy: 0.7564 - val_loss: 1.5121 - val_accuracy: 0.5954\n",
            "Epoch 11/30\n",
            "108/108 [==============================] - 22s 201ms/step - loss: 0.5923 - accuracy: 0.7859 - val_loss: 1.2297 - val_accuracy: 0.5861\n",
            "Epoch 12/30\n",
            "108/108 [==============================] - 23s 211ms/step - loss: 0.5749 - accuracy: 0.7856 - val_loss: 0.8329 - val_accuracy: 0.7202\n",
            "Epoch 13/30\n",
            "108/108 [==============================] - 21s 195ms/step - loss: 0.5779 - accuracy: 0.7868 - val_loss: 0.9083 - val_accuracy: 0.6960\n",
            "Epoch 14/30\n",
            "108/108 [==============================] - 22s 202ms/step - loss: 0.5377 - accuracy: 0.8091 - val_loss: 0.8660 - val_accuracy: 0.7260\n",
            "Epoch 15/30\n",
            "108/108 [==============================] - 21s 195ms/step - loss: 0.4946 - accuracy: 0.8169 - val_loss: 0.8369 - val_accuracy: 0.7133\n",
            "Epoch 16/30\n",
            "108/108 [==============================] - 22s 206ms/step - loss: 0.4639 - accuracy: 0.8340 - val_loss: 1.0173 - val_accuracy: 0.6809\n",
            "Epoch 17/30\n",
            "108/108 [==============================] - 21s 198ms/step - loss: 0.4554 - accuracy: 0.8398 - val_loss: 1.6884 - val_accuracy: 0.5329\n",
            "Epoch 18/30\n",
            "108/108 [==============================] - 22s 208ms/step - loss: 0.4417 - accuracy: 0.8360 - val_loss: 0.9243 - val_accuracy: 0.7098\n",
            "Epoch 19/30\n",
            "108/108 [==============================] - 21s 193ms/step - loss: 0.4171 - accuracy: 0.8523 - val_loss: 1.1159 - val_accuracy: 0.6913\n",
            "Epoch 20/30\n",
            "108/108 [==============================] - 22s 200ms/step - loss: 0.4005 - accuracy: 0.8511 - val_loss: 0.9233 - val_accuracy: 0.7410\n",
            "Epoch 21/30\n",
            "108/108 [==============================] - 21s 194ms/step - loss: 0.3963 - accuracy: 0.8546 - val_loss: 1.0702 - val_accuracy: 0.6936\n",
            "Epoch 22/30\n",
            "108/108 [==============================] - 22s 201ms/step - loss: 0.3799 - accuracy: 0.8592 - val_loss: 0.9571 - val_accuracy: 0.7064\n",
            "Epoch 23/30\n",
            "108/108 [==============================] - 21s 195ms/step - loss: 0.3587 - accuracy: 0.8749 - val_loss: 0.9375 - val_accuracy: 0.7283\n",
            "Epoch 24/30\n",
            "108/108 [==============================] - 22s 201ms/step - loss: 0.3438 - accuracy: 0.8708 - val_loss: 1.1250 - val_accuracy: 0.7225\n",
            "Epoch 25/30\n",
            "108/108 [==============================] - 21s 193ms/step - loss: 0.3229 - accuracy: 0.8806 - val_loss: 0.9827 - val_accuracy: 0.7329\n",
            "Epoch 26/30\n",
            "108/108 [==============================] - 22s 201ms/step - loss: 0.3005 - accuracy: 0.8902 - val_loss: 0.9471 - val_accuracy: 0.7491\n",
            "Epoch 27/30\n",
            "108/108 [==============================] - 21s 192ms/step - loss: 0.3000 - accuracy: 0.8908 - val_loss: 1.0742 - val_accuracy: 0.6983\n",
            "Epoch 28/30\n",
            "108/108 [==============================] - 22s 201ms/step - loss: 0.2860 - accuracy: 0.8995 - val_loss: 1.0916 - val_accuracy: 0.6913\n",
            "Epoch 29/30\n",
            "108/108 [==============================] - 22s 203ms/step - loss: 0.2847 - accuracy: 0.9015 - val_loss: 1.0750 - val_accuracy: 0.7179\n",
            "Epoch 30/30\n",
            "108/108 [==============================] - 21s 196ms/step - loss: 0.2728 - accuracy: 0.9053 - val_loss: 0.8867 - val_accuracy: 0.7445\n"
          ]
        },
        {
          "output_type": "execute_result",
          "data": {
            "text/plain": [
              "<keras.callbacks.History at 0x7f910812fca0>"
            ]
          },
          "metadata": {},
          "execution_count": 20
        }
      ],
      "source": [
        "cnn.fit(x = training_set , validation_data = test_set , epochs = 30)"
      ]
    },
    {
      "cell_type": "code",
      "execution_count": null,
      "metadata": {
        "id": "MEXcPSb2mOp5"
      },
      "outputs": [],
      "source": [
        "cnn.save('/content/drive/MyDrive/data/my_model_exp2.h5')"
      ]
    },
    {
      "cell_type": "code",
      "execution_count": null,
      "metadata": {
        "colab": {
          "base_uri": "https://localhost:8080/"
        },
        "id": "EiPnbX-Eghyz",
        "outputId": "e7fa25d1-1cae-4a05-a0bc-12bf7afd7cc9"
      },
      "outputs": [
        {
          "output_type": "stream",
          "name": "stdout",
          "text": [
            "1/1 [==============================] - 0s 140ms/step\n",
            "Prediction for /content/drive/MyDrive/data/prediction/Beautiful_Red_Rose.jpg: rose\n"
          ]
        }
      ],
      "source": [
        "from tensorflow.keras.models import load_model\n",
        "from tensorflow.keras.preprocessing.image import img_to_array\n",
        "from PIL import Image\n",
        "import numpy as np\n",
        "\n",
        "input_shape = (64, 64)\n",
        "\n",
        "# Load the saved model\n",
        "cnn = load_model('/content/drive/MyDrive/data/my_model_exp2.h5')\n",
        "\n",
        "# Define the list of class names\n",
        "class_names = ['daisy', 'sunflower', 'tulip', 'dandelion', 'rose']\n",
        "\n",
        "# Function to preprocess the input image\n",
        "def preprocess_image(image_path):\n",
        "    # Open the image and convert to a PIL image\n",
        "    image = Image.open(image_path)\n",
        "    # Resize to the input shape of the model\n",
        "    image = image.resize(input_shape)\n",
        "    # Convert to a numpy array\n",
        "    image = img_to_array(image)\n",
        "    # Normalize the image data\n",
        "    image /= 255.0\n",
        "    # Add a batch dimension to the image\n",
        "    image = np.expand_dims(image, axis=0)\n",
        "    # Return the preprocessed image\n",
        "    return image\n",
        "\n",
        "# Function to predict the class of an image\n",
        "def predict_class(image_path):\n",
        "    # Preprocess the input image\n",
        "    image = preprocess_image(image_path)\n",
        "    # Make predictions on the preprocessed image using the loaded model\n",
        "    predictions = cnn.predict(image)\n",
        "    # Get the predicted class index with the highest probability\n",
        "    predicted_class_index = np.argmax(predictions[0])\n",
        "    # Get the predicted class name\n",
        "    predicted_class_name = class_names[predicted_class_index]\n",
        "    # Return the predicted class name\n",
        "    return predicted_class_name\n",
        "\n",
        "# Example usage\n",
        "image_path = '/content/drive/MyDrive/data/prediction/Beautiful_Red_Rose.jpg'\n",
        "predicted_class = predict_class(image_path)\n",
        "print(f\"Prediction for {image_path}: {predicted_class}\")\n"
      ]
    }
  ],
  "metadata": {
    "accelerator": "GPU",
    "colab": {
      "provenance": [],
      "gpuType": "T4"
    },
    "gpuClass": "standard",
    "kernelspec": {
      "display_name": "Python 3",
      "name": "python3"
    },
    "language_info": {
      "name": "python"
    }
  },
  "nbformat": 4,
  "nbformat_minor": 0
}